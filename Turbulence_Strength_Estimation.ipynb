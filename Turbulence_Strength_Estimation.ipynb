{
 "cells": [
  {
   "attachments": {},
   "cell_type": "markdown",
   "metadata": {},
   "source": [
    "## This is just to experiment with the Effect of simulated Vibration"
   ]
  },
  {
   "cell_type": "code",
   "execution_count": 1,
   "metadata": {},
   "outputs": [],
   "source": [
    "import numpy as np\n",
    "from glob import glob\n",
    "from PIL import Image\n",
    "import cv2"
   ]
  },
  {
   "attachments": {},
   "cell_type": "markdown",
   "metadata": {},
   "source": [
    "### Calculate the Image Gradient"
   ]
  },
  {
   "cell_type": "code",
   "execution_count": 2,
   "metadata": {},
   "outputs": [],
   "source": [
    "def imgradient(img):\n",
    "    if type(img) != np.ndarray:\n",
    "        img = img.convert('L')\n",
    "        img = np.asarray(img)\n",
    "\n",
    "    sobel_x = np.array([[-1, 0, 1], [-2, 0, 2], [-1, 0, 1]])\n",
    "    sobel_y = np.array([[-1, -2, -1], [0, 0, 0], [1, 2, 1]])\n",
    "    Gx = cv2.filter2D(img, -1, sobel_x)\n",
    "    Gy = cv2.filter2D(img, -1, sobel_y)\n",
    "    grad_mag = np.sqrt(Gx**2 + Gy**2)\n",
    "    return grad_mag"
   ]
  },
  {
   "attachments": {},
   "cell_type": "markdown",
   "metadata": {},
   "source": [
    "### Function for Turbulence strength calculation"
   ]
  },
  {
   "cell_type": "code",
   "execution_count": 3,
   "metadata": {},
   "outputs": [],
   "source": [
    "def fcn_Cnsqr_sequence(data, PFOV, D, L, P):\n",
    "    sigma_I = np.std(data, axis=0)\n",
    "    Cn_sqr_vec = []\n",
    "    for iSequence in range(data.shape[0]):\n",
    "        d = data[iSequence,:,:]\n",
    "        Grad_mag = imgradient(d)\n",
    "        Grad_mag[Grad_mag < Grad_mag.max()/100] = np.nan\n",
    "        Cn_sqr_mn = np.divide((np.dot(PFOV**2, D**(1/3)) * sigma_I**2), (Grad_mag*float(L)*float(P)))\n",
    "        Cn_sqr_vec.append(np.nanmean(Cn_sqr_mn))\n",
    "    return np.nanmean(Cn_sqr_vec)"
   ]
  },
  {
   "attachments": {},
   "cell_type": "markdown",
   "metadata": {},
   "source": [
    "### Compute the Time interval and unique time"
   ]
  },
  {
   "cell_type": "code",
   "execution_count": 4,
   "metadata": {},
   "outputs": [
    {
     "name": "stdout",
     "output_type": "stream",
     "text": [
      "PFOV=1.9248000000000003e-05, D=0.0625, L=2789, P=1.1\n"
     ]
    }
   ],
   "source": [
    "focal_length, fstop = 0.5, 8.000\n",
    "D, ImageScalledDown, lambda_temp, L = focal_length/fstop, 3, 500E-9, 2789\n",
    "dx, dy = ImageScalledDown*0.003208/1000, ImageScalledDown*0.003208/1000\n",
    "PFOV, l_0, L_0 = dx/np.array(focal_length), 1 / 1000, 80\n",
    "P = 2.914 if D < np.sqrt(lambda_temp * L) and l_0 <= D < L_0 else 1.1\n",
    "\n",
    "print(f'{PFOV=}, {D=}, {L=}, {P=}')"
   ]
  },
  {
   "attachments": {},
   "cell_type": "markdown",
   "metadata": {},
   "source": [
    "### Estimate the Turbulence intensity"
   ]
  },
  {
   "cell_type": "code",
   "execution_count": 5,
   "metadata": {},
   "outputs": [
    {
     "name": "stdout",
     "output_type": "stream",
     "text": [
      "cn2=7.397968920754091e-12\n"
     ]
    }
   ],
   "source": [
    "image_set = glob(\"Input/1e-12/*.png\")\n",
    "gray_images = [Image.open(img_path).convert('L') for img_path in image_set]\n",
    "data = np.array([np.array(img) for img in gray_images])\n",
    "\n",
    "cn2 = fcn_Cnsqr_sequence(data, PFOV, D, L, P)\n",
    "print(f'{cn2=}')"
   ]
  }
 ],
 "metadata": {
  "kernelspec": {
   "display_name": "Python 3",
   "language": "python",
   "name": "python3"
  },
  "language_info": {
   "codemirror_mode": {
    "name": "ipython",
    "version": 3
   },
   "file_extension": ".py",
   "mimetype": "text/x-python",
   "name": "python",
   "nbconvert_exporter": "python",
   "pygments_lexer": "ipython3",
   "version": "3.10.6"
  },
  "orig_nbformat": 4
 },
 "nbformat": 4,
 "nbformat_minor": 2
}
